{
 "cells": [
  {
   "cell_type": "markdown",
   "metadata": {
    "collapsed": true
   },
   "source": [
    "**Exercise 1: Wholemeal programming**\n",
    "<br>\n",
    "Reimplement each of the following functions in a more idiomatic Haskell style. Use *wholemeal programming* practices, breaking each function into a pipeline of incremental transformations to an entire data structure. Name your functions fun1’ and fun2’ respectively.\n",
    "\n",
    "    1. fun1 :: [Integer] -> Integer\n",
    "       fun1 [] = 1\n",
    "       fun1 (x:xs)\n",
    "        | even x = (x - 2) * fun1 xs\n",
    "        | otherwise = fun1 xs\n",
    "        \n",
    "    2. fun2 :: Integer -> Integer\n",
    "       fun2 1 = 0\n",
    "       fun2 n | even n = n + fun2 (n ‘div‘ 2)\n",
    "              | otherwise = fun2 (3 * n + 1)\n",
    "      \n",
    "Hint: For this problem you may wish to use the functions iterate\n",
    "and takeWhile. Look them up in the Prelude documentation to see\n",
    "what they do."
   ]
  },
  {
   "cell_type": "code",
   "execution_count": null,
   "metadata": {
    "collapsed": true
   },
   "outputs": [],
   "source": []
  },
  {
   "cell_type": "markdown",
   "metadata": {},
   "source": [
    "**Exercise 2: Folding with trees**\n",
    "Recall the definition of a binary tree data structure. The height of Binary_tree a binary tree is the length of a path from the root to the deepest\n",
    "node. For example, the height of a tree with a single node is 0; the height of a tree with three nodes, whose root has two children, is 1; and so on. A binary tree is balanced if the height of its left and right subtrees differ by no more than 1, and its left and right subtrees are also balanced.\n",
    "<br>\n",
    "You should use the following data structure to represent binary\n",
    "trees. Note that each node stores an extra Integer representing the\n",
    "height at that node.\n",
    "\n",
    "    data Tree a = Leaf\n",
    "    | Node Integer (Tree a) a (Tree a)\n",
    "    deriving (Show, Eq)\n",
    "\n",
    "For this exercise, write a function\n",
    "\n",
    "    foldTree :: [a] -> Tree a\n",
    "    foldTree = ...\n",
    "\n",
    "which generates a balanced binary tree from a list of values using\n",
    "foldr.\n",
    "For example, one sample output might be the following, also visualized\n",
    "at right:\n",
    "\n",
    "    foldTree \"ABCDEFGHIJ\" ==\n",
    "    Node 3\n",
    "     (Node 2\n",
    "      (Node 0 Leaf ’F’ Leaf)\n",
    "      ’I’\n",
    "      (Node 1 (Node 0 Leaf ’B’ Leaf) ’C’ Leaf))\n",
    "     ’J’\n",
    "     (Node 2\n",
    "        (Node 1 (Node 0 Leaf ’A’ Leaf) ’G’ Leaf)\n",
    "        ’H’\n",
    "        (Node 1 (Node 0 Leaf ’D’ Leaf) ’E’ Leaf))\n",
    "        \n",
    "Your solution might not place the nodes in the same exact order,\n",
    "but it should result in balanced trees, with each subtree having a\n",
    "correct computed height."
   ]
  },
  {
   "cell_type": "code",
   "execution_count": null,
   "metadata": {
    "collapsed": true
   },
   "outputs": [],
   "source": []
  },
  {
   "cell_type": "markdown",
   "metadata": {},
   "source": [
    "**Exercise 3: More folds!**\n",
    "1. Implement a function\n",
    "\n",
    "    xor :: [Bool] -> Bool\n",
    "    \n",
    "    which returns True if and only if there are an odd number of True values contained in the input list. It does not matter how many False values the input list contains. For example,\n",
    "\n",
    "        xor [False, True, False] == True\n",
    "        xor [False, True, False, False, True] == False\n",
    "\n",
    "    Your solution must be implemented using a fold.\n",
    "\n",
    "2. Implement map as a fold. That is, complete the definition\n",
    "\n",
    "        map’ :: (a -> b) -> [a] -> [b]\n",
    "        map’ f = foldr ...\n",
    "    \n",
    "    in such a way that map’ behaves identically to the standard mapfunction.\n",
    "\n",
    "3. (Optional) Implement foldl using foldr. That is, complete the definition\n",
    "        myFoldl :: (a -> b -> a) -> a -> [b] -> a\n",
    "        myFoldl f base xs = foldr ...\n",
    "   in such a way that myFoldl behaves identically to the standard foldl function.\n",
    "   Hint: Study how the application of foldr and foldl work out:\n",
    "   \n",
    "        foldr f z [x1, x2, ..., xn] == x1 ‘f‘ (x2 ‘f‘ ... (xn ‘f‘ z)...)\n",
    "        foldl f z [x1, x2, ..., xn] == (...((z ‘f‘ x1) ‘f‘ x2) ‘f‘...) ‘f‘ xn"
   ]
  },
  {
   "cell_type": "code",
   "execution_count": null,
   "metadata": {
    "collapsed": true
   },
   "outputs": [],
   "source": []
  },
  {
   "cell_type": "markdown",
   "metadata": {},
   "source": [
    "**Exercise 4: Finding primes**\n",
    "<br>\n",
    "Read about the *Sieve of Sundaram*. Implement the algorithm using function composition. Given an integer n, your function should\n",
    "generate all the odd prime numbers up to 2*n* + 2.\n",
    "\n",
    "    sieveSundaram :: Integer -> [Integer]\n",
    "    sieveSundaram = ...\n",
    "\n",
    "To give you some help, below is a function to compute the Cartesian\n",
    "product of two lists. This is similar to zip, but it produces all\n",
    "possible pairs instead of matching up the list elements. For example,\n",
    "\n",
    "    cartProd [1,2] [’a’,’b’] == [(1,’a’),(1,’b’),(2,’a’),(2,’b’)]\n",
    "\n",
    "It’s written using a list comprehension, which we haven’t talked about\n",
    "in class (but feel free to research them).\n",
    "\n",
    "    cartProd :: [a] -> [b] -> [(a, b)]\n",
    "    cartProd xs ys = [(x,y) | x <- xs, y <- ys]"
   ]
  },
  {
   "cell_type": "code",
   "execution_count": null,
   "metadata": {
    "collapsed": true
   },
   "outputs": [],
   "source": []
  }
 ],
 "metadata": {
  "anaconda-cloud": {},
  "kernelspec": {
   "display_name": "Haskell",
   "language": "haskell",
   "name": "haskell"
  },
  "language_info": {
   "codemirror_mode": "ihaskell",
   "file_extension": ".hs",
   "name": "haskell",
   "version": "8.0.2"
  }
 },
 "nbformat": 4,
 "nbformat_minor": 1
}
