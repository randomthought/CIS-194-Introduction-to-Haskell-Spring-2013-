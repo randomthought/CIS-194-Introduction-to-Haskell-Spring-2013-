{
 "cells": [
  {
   "cell_type": "code",
   "execution_count": 124,
   "metadata": {
    "collapsed": true
   },
   "outputs": [],
   "source": [
    "import Data.List"
   ]
  },
  {
   "cell_type": "markdown",
   "metadata": {},
   "source": [
    "**Exercise 1 Hopscotch**\n",
    "<br>\n",
    "Your first task is to write a function\n",
    "\n",
    "    skips :: [a] -> [[a]]\n",
    "\n",
    "The output of skips is a list of lists. The first list in the output should\n",
    "be the same as the input list. The second list in the output should\n",
    "contain every second element from the input list. . . and the nth list in\n",
    "the output should contain every nth element from the input list.\n",
    "<br>\n",
    "    For example:\n",
    "    \n",
    "    skips \"ABCD\"       == [\"ABCD\", \"BD\", \"C\", \"D\"]\n",
    "    skips \"hello!\"     == [\"hello!\", \"el!\", \"l!\", \"l\", \"o\", \"!\"]\n",
    "    skips [1]          == [[1]]\n",
    "    skips [True,False] == [[True,False], [False]]\n",
    "    skips []           == []\n",
    "\n",
    "Note that the output should be the same length as the input"
   ]
  },
  {
   "cell_type": "code",
   "execution_count": 16,
   "metadata": {
    "collapsed": false
   },
   "outputs": [],
   "source": [
    "-- Naive solution\n",
    "skips :: [a] -> [[a]]\n",
    "skips [] = []\n",
    "skips xs = skipsHelper 1  xs\n",
    "\n",
    "skipsHelper :: Int -> [a] -> [[a]]\n",
    "skipsHelper n list@(x:xs)\n",
    "    | length list < n = []\n",
    "    | otherwise       = getNth 1 n list :  skipsHelper (n+1) list\n",
    "\n",
    "-- n = start of the list\n",
    "-- c = current iteration\n",
    "getNth :: Int -> Int -> [a] -> [a]\n",
    "getNth _ _ []     = []\n",
    "getNth n c (x:xs) = case n `mod` c == 0 of\n",
    "    True -> x : getNth (n+1) c xs\n",
    "    False -> getNth (n+1) c xs"
   ]
  },
  {
   "cell_type": "code",
   "execution_count": 102,
   "metadata": {
    "collapsed": false
   },
   "outputs": [],
   "source": [
    "skips :: [a] -> [[a]]\n",
    "skips xs = skipsHelper 1  xs\n",
    "\n",
    "skipsHelper :: Int -> [a] -> [[a]]\n",
    "skipsHelper n xs = case length xs > n of\n",
    "    True  -> [last $ take n xs] : skipsHelper (n+1) xs\n",
    "    False -> []"
   ]
  },
  {
   "cell_type": "code",
   "execution_count": 101,
   "metadata": {
    "collapsed": false
   },
   "outputs": [
    {
     "data": {
      "text/plain": [
       "'B'"
      ]
     },
     "metadata": {},
     "output_type": "display_data"
    }
   ],
   "source": [
    "last $ take 2 \"ABCD\"                     "
   ]
  },
  {
   "cell_type": "code",
   "execution_count": 103,
   "metadata": {
    "collapsed": false
   },
   "outputs": [
    {
     "data": {
      "text/plain": [
       "[\"A\",\"B\",\"C\"]"
      ]
     },
     "metadata": {},
     "output_type": "display_data"
    }
   ],
   "source": [
    "skips \"ABCD\""
   ]
  },
  {
   "cell_type": "code",
   "execution_count": 99,
   "metadata": {
    "collapsed": false
   },
   "outputs": [
    {
     "data": {
      "text/plain": [
       "[\"ABCD\",\"BD\",\"C\",\"D\"]"
      ]
     },
     "metadata": {},
     "output_type": "display_data"
    },
    {
     "data": {
      "text/plain": [
       "[\"hello!\",\"el!\",\"l!\",\"l\",\"o\",\"!\"]"
      ]
     },
     "metadata": {},
     "output_type": "display_data"
    },
    {
     "data": {
      "text/plain": [
       "[[1]]"
      ]
     },
     "metadata": {},
     "output_type": "display_data"
    },
    {
     "data": {
      "text/plain": [
       "[[True,False],[False]]"
      ]
     },
     "metadata": {},
     "output_type": "display_data"
    },
    {
     "data": {
      "text/plain": [
       "[]"
      ]
     },
     "metadata": {},
     "output_type": "display_data"
    }
   ],
   "source": [
    "skips \"ABCD\"\n",
    "skips \"hello!\" \n",
    "skips [1] \n",
    "skips [True,False]\n",
    "skips [] "
   ]
  },
  {
   "cell_type": "markdown",
   "metadata": {},
   "source": [
    "**Exercise 2 Local maxima**\n",
    "<br>\n",
    "A *local maximum* of a list is an element of the list which is strictly\n",
    "greater than both the elements immediately before and after it. For\n",
    "example, in the list [2,3,4,1,5], the only local maximum is 4, since\n",
    "it is greater than the elements immediately before and after it (3 and\n",
    "1). 5 is not a local maximum since there is no element that comes\n",
    "after it.\n",
    "<br>\n",
    "Write a function\n",
    "    \n",
    "    localMaxima :: [Integer] -> [Integer]\n",
    "\n",
    "which finds all the local maxima in the input list and returns them in\n",
    "order. For example:\n",
    "\n",
    "    localMaxima [2,9,5,6,1] == [9,6]\n",
    "    localMaxima [2,3,4,1,5] == [4]\n",
    "    localMaxima [1,2,3,4,5] == []"
   ]
  },
  {
   "cell_type": "code",
   "execution_count": 64,
   "metadata": {
    "collapsed": false
   },
   "outputs": [],
   "source": [
    "localMaxima :: [Integer] -> [Integer]\n",
    "localMaxima (x:y:z:rest) = case (y > x) && (y > z) of\n",
    "    True -> y : localMaxima (z:rest)\n",
    "    False -> localMaxima (y:z:rest)\n",
    "localMaxima _ = []"
   ]
  },
  {
   "cell_type": "code",
   "execution_count": 65,
   "metadata": {
    "collapsed": false
   },
   "outputs": [
    {
     "data": {
      "text/plain": [
       "[9,6]"
      ]
     },
     "metadata": {},
     "output_type": "display_data"
    },
    {
     "data": {
      "text/plain": [
       "[4]"
      ]
     },
     "metadata": {},
     "output_type": "display_data"
    },
    {
     "data": {
      "text/plain": [
       "[]"
      ]
     },
     "metadata": {},
     "output_type": "display_data"
    }
   ],
   "source": [
    "localMaxima [2,9,5,6,1]\n",
    "localMaxima [2,3,4,1,5] \n",
    "localMaxima [1,2,3,4,5]"
   ]
  },
  {
   "cell_type": "markdown",
   "metadata": {},
   "source": [
    "**Exercise 3 Histogram**\n",
    "<br>\n",
    "For this task, write a function\n",
    "\n",
    "    histogram :: [Integer] -> String\n",
    "\n",
    "which takes as input a list of Integers between 0 and 9 (inclusive),\n",
    "and outputs a vertical histogram showing how many of each number\n",
    "were in the input list. You may assume that the input list does not\n",
    "contain any numbers less than zero or greater than 9 (that is, it does\n",
    "not matter what your function does if the input does contain such\n",
    "numbers). Your output must exactly match the output shown in the\n",
    "examples below.\n",
    "\n",
    "    histogram [1,1,1,5] ==\n",
    "     *\n",
    "     *\n",
    "     *   *\n",
    "    ==========\n",
    "    0123456789\n",
    "    histogram [1,4,5,4,6,6,3,4,2,4,9] ==\n",
    "        *\n",
    "        *\n",
    "        * *\n",
    "     ******  *\n",
    "    ==========\n",
    "    0123456789\n",
    "    \n",
    "**Important note:** If you type something like histogram [3,5] at\n",
    "the ghci prompt, you should see something like this:\n",
    "\n",
    "    \" * * \\n==========\\n0123456789\\n\"\n",
    "    \n",
    "This is a textual representation of the String output, including \\n\n",
    "escape sequences to indicate newline characters. To actually visualize\n",
    "the histogram as in the examples above, use putStr, for example,\n",
    "\n",
    "    putStr (histogram [3,5])."
   ]
  },
  {
   "cell_type": "code",
   "execution_count": 367,
   "metadata": {
    "collapsed": false
   },
   "outputs": [],
   "source": [
    "histogram :: [Integer] -> String\n",
    "histogram []   = \"\"\n",
    "histogram list = histogram (remADublicate list) ++ \"\\n\" ++ rowGenerator list \n",
    "\n",
    "rowGenerator :: [Integer] -> String\n",
    "rowGenerator list = map ((\\(x, y) -> if y < 1 then ' ' else '*') . \n",
    "                         (\\(x, y) -> (x, y-1) ) . \n",
    "                         (\\ x -> (head x, length x))) \n",
    "                        $ group \n",
    "                        $ sort \n",
    "                        $ [0,1,2,3,4,5,6,7,8,9] ++ list\n",
    "\n",
    "remADublicate :: [Integer] -> [Integer]\n",
    "remADublicate list = concat $ filter (not . null) \n",
    "                            $ map (\\x -> if null x then [] else drop 1 x) \n",
    "                            $ group \n",
    "                            $ sort list"
   ]
  },
  {
   "cell_type": "code",
   "execution_count": 371,
   "metadata": {
    "collapsed": false
   },
   "outputs": [
    {
     "data": {
      "text/plain": [
       "\n",
       " *        \n",
       " *        \n",
       " *   *    \n",
       "==========\n",
       "0123456789"
      ]
     },
     "metadata": {},
     "output_type": "display_data"
    },
    {
     "data": {
      "text/plain": [
       "\n",
       "    *     \n",
       "    *     \n",
       "    * *   \n",
       " ******  *\n",
       "==========\n",
       "0123456789"
      ]
     },
     "metadata": {},
     "output_type": "display_data"
    }
   ],
   "source": [
    "putStrLn $ histogram [1,1,1,5] ++ \"\\n==========\\n0123456789\\n\"\n",
    "putStrLn $ histogram [1,4,5,4,6,6,3,4,2,4,9] ++ \"\\n==========\\n0123456789\\n\""
   ]
  },
  {
   "cell_type": "code",
   "execution_count": 372,
   "metadata": {
    "collapsed": false
   },
   "outputs": [
    {
     "data": {
      "text/html": [
       "<style>/* Styles used for the Hoogle display in the pager */\n",
       ".hoogle-doc {\n",
       "display: block;\n",
       "padding-bottom: 1.3em;\n",
       "padding-left: 0.4em;\n",
       "}\n",
       ".hoogle-code {\n",
       "display: block;\n",
       "font-family: monospace;\n",
       "white-space: pre;\n",
       "}\n",
       ".hoogle-text {\n",
       "display: block;\n",
       "}\n",
       ".hoogle-name {\n",
       "color: green;\n",
       "font-weight: bold;\n",
       "}\n",
       ".hoogle-head {\n",
       "font-weight: bold;\n",
       "}\n",
       ".hoogle-sub {\n",
       "display: block;\n",
       "margin-left: 0.4em;\n",
       "}\n",
       ".hoogle-package {\n",
       "font-weight: bold;\n",
       "font-style: italic;\n",
       "}\n",
       ".hoogle-module {\n",
       "font-weight: bold;\n",
       "}\n",
       ".hoogle-class {\n",
       "font-weight: bold;\n",
       "}\n",
       ".get-type {\n",
       "color: green;\n",
       "font-weight: bold;\n",
       "font-family: monospace;\n",
       "display: block;\n",
       "white-space: pre-wrap;\n",
       "}\n",
       ".show-type {\n",
       "color: green;\n",
       "font-weight: bold;\n",
       "font-family: monospace;\n",
       "margin-left: 1em;\n",
       "}\n",
       ".mono {\n",
       "font-family: monospace;\n",
       "display: block;\n",
       "}\n",
       ".err-msg {\n",
       "color: red;\n",
       "font-style: italic;\n",
       "font-family: monospace;\n",
       "white-space: pre;\n",
       "display: block;\n",
       "}\n",
       "#unshowable {\n",
       "color: red;\n",
       "font-weight: bold;\n",
       "}\n",
       ".err-msg.in.collapse {\n",
       "padding-top: 0.7em;\n",
       "}\n",
       ".highlight-code {\n",
       "white-space: pre;\n",
       "font-family: monospace;\n",
       "}\n",
       ".suggestion-warning { \n",
       "font-weight: bold;\n",
       "color: rgb(200, 130, 0);\n",
       "}\n",
       ".suggestion-error { \n",
       "font-weight: bold;\n",
       "color: red;\n",
       "}\n",
       ".suggestion-name {\n",
       "font-weight: bold;\n",
       "}\n",
       "</style><span class='err-msg'>&lt;interactive&gt;:1:1: error: parse error on input ‘&gt;’</span>"
      ],
      "text/plain": [
       "<interactive>:1:1: error: parse error on input ‘>’"
      ]
     },
     "metadata": {},
     "output_type": "display_data"
    }
   ],
   "source": [
    "f :: (b -> c) -> (a -> b) -> (a -> c)\n",
    "f fb fa "
   ]
  },
  {
   "cell_type": "code",
   "execution_count": null,
   "metadata": {
    "collapsed": true
   },
   "outputs": [],
   "source": []
  }
 ],
 "metadata": {
  "anaconda-cloud": {},
  "kernelspec": {
   "display_name": "Haskell",
   "language": "haskell",
   "name": "haskell"
  },
  "language_info": {
   "codemirror_mode": "ihaskell",
   "file_extension": ".hs",
   "name": "haskell",
   "version": "8.0.2"
  }
 },
 "nbformat": 4,
 "nbformat_minor": 1
}
