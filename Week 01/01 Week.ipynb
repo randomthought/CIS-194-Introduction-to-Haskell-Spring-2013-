{
 "cells": [
  {
   "cell_type": "code",
   "execution_count": null,
   "metadata": {
    "collapsed": true
   },
   "outputs": [],
   "source": []
  },
  {
   "cell_type": "code",
   "execution_count": 3,
   "metadata": {
    "collapsed": false
   },
   "outputs": [
    {
     "data": {
      "text/plain": [
       "[1,2,3,4]"
      ]
     },
     "metadata": {},
     "output_type": "display_data"
    }
   ],
   "source": [
    "-- toDigits should convert positive Integers to a list of digits. \n",
    "-- (For 0 or negative inputs, toDigits should return the empty list.)\n",
    "-- Example: toDigits 1234 == [1,2,3,4] Example: toDigitsRev 1234 == [4,3,2,1] Example: toDigits 0 == []\n",
    "-- Example: toDigits (-17) == []\n",
    "toDigits :: Integer -> [Integer]\n",
    "toDigits n\n",
    " | n < 1    = []\n",
    " | otherwise = toDigits (div n 10) ++ [mod n 10]\n",
    "\n",
    "toDigitsRev :: Integer -> [Integer]\n",
    "toDigitsRev n \n",
    "    | n < 1     = []\n",
    "    | otherwise =  mod n 10 : toDigitsRev (div n 10)\n",
    "\n",
    "toDigits 1234"
   ]
  },
  {
   "cell_type": "code",
   "execution_count": 4,
   "metadata": {
    "collapsed": false
   },
   "outputs": [],
   "source": [
    "-- Example: doubleEveryOther [8,7,6,5] == [16,7,12,5]\n",
    "-- Example: doubleEveryOther [1,2,3] == [1,4,3]\n",
    "doubleEveryOther :: [Integer] -> [Integer]\n",
    "doubleEveryOther [] = []\n",
    "doubleEveryOther (x:[]) = x*2 : []\n",
    "doubleEveryOther (x:(y:zs)) = x*2 : y : doubleEveryOther zs"
   ]
  },
  {
   "cell_type": "code",
   "execution_count": 18,
   "metadata": {
    "collapsed": false
   },
   "outputs": [],
   "source": [
    "-- The output of doubleEveryOther has a mix of one-digit \n",
    "-- and two-digit numbers. Define the function\n",
    "-- Example: sumDigits [16,7,12,5] = 1 + 6 + 7 + 1 + 2 + 5 = 22\n",
    "sumDigits :: [Integer] -> Integer\n",
    "sumDigits []     = 0\n",
    "sumDigits (x:xs) \n",
    "    | x < 10     = x + sumDigits xs\n",
    "    | otherwise  = sumDigits(toDigits x) + sumDigits xs"
   ]
  },
  {
   "cell_type": "code",
   "execution_count": 17,
   "metadata": {
    "collapsed": false
   },
   "outputs": [
    {
     "data": {
      "text/plain": [
       "True"
      ]
     },
     "metadata": {},
     "output_type": "display_data"
    },
    {
     "data": {
      "text/plain": [
       "False"
      ]
     },
     "metadata": {},
     "output_type": "display_data"
    }
   ],
   "source": [
    "validate :: Integer -> Bool\n",
    "validate n = sumDigits (doubleEveryOther (toDigits n)) `mod` 10 == 0\n",
    "\n",
    "validate 4012888888881881\n",
    "validate 4012888888881882"
   ]
  },
  {
   "cell_type": "markdown",
   "metadata": {
    "collapsed": false
   },
   "source": [
    "___"
   ]
  },
  {
   "cell_type": "code",
   "execution_count": 2,
   "metadata": {
    "collapsed": false
   },
   "outputs": [],
   "source": [
    "type Peg = String\n",
    "type Move = (Peg, Peg)\n",
    "hanoi :: Integer -> Peg -> Peg -> Peg -> [Move]\n",
    "hanoi 0 a b c = []\n",
    "hanoi 1 a b c = [(a, c)]\n",
    "hanoi 2 a b c = (a, b) : (a, c) : [(b, c)]\n",
    "hanoi n a b c = (a, c) : (a, b) : (c, b) : (a, c) : hanoi (n-1) b a c"
   ]
  },
  {
   "cell_type": "code",
   "execution_count": 5,
   "metadata": {
    "collapsed": false
   },
   "outputs": [
    {
     "data": {
      "text/plain": [
       "[(\"a\",\"c\"),(\"a\",\"b\"),(\"c\",\"b\"),(\"a\",\"c\"),(\"b\",\"c\"),(\"b\",\"a\"),(\"c\",\"a\"),(\"b\",\"c\"),(\"a\",\"c\"),(\"a\",\"b\"),(\"c\",\"b\"),(\"a\",\"c\"),(\"b\",\"c\"),(\"b\",\"a\"),(\"c\",\"a\"),(\"b\",\"c\"),(\"a\",\"c\"),(\"a\",\"b\"),(\"c\",\"b\"),(\"a\",\"c\"),(\"b\",\"c\"),(\"b\",\"a\"),(\"c\",\"a\"),(\"b\",\"c\"),(\"a\",\"c\"),(\"a\",\"b\"),(\"c\",\"b\"),(\"a\",\"c\"),(\"b\",\"c\"),(\"b\",\"a\"),(\"c\",\"a\"),(\"b\",\"c\"),(\"a\",\"c\"),(\"a\",\"b\"),(\"c\",\"b\"),(\"a\",\"c\"),(\"b\",\"c\"),(\"b\",\"a\"),(\"c\",\"a\"),(\"b\",\"c\"),(\"a\",\"c\"),(\"a\",\"b\"),(\"c\",\"b\"),(\"a\",\"c\"),(\"b\",\"c\"),(\"b\",\"a\"),(\"c\",\"a\"),(\"b\",\"c\"),(\"a\",\"c\"),(\"a\",\"b\"),(\"c\",\"b\"),(\"a\",\"c\"),(\"b\",\"c\"),(\"b\",\"a\"),(\"c\",\"a\"),(\"b\",\"c\"),(\"a\",\"c\"),(\"a\",\"b\"),(\"c\",\"b\"),(\"a\",\"c\"),(\"b\",\"c\"),(\"b\",\"a\"),(\"c\",\"a\"),(\"b\",\"c\"),(\"a\",\"c\"),(\"a\",\"b\"),(\"c\",\"b\"),(\"a\",\"c\"),(\"b\",\"c\"),(\"b\",\"a\"),(\"c\",\"a\"),(\"b\",\"c\"),(\"a\",\"c\"),(\"a\",\"b\"),(\"c\",\"b\"),(\"a\",\"c\"),(\"b\",\"c\"),(\"b\",\"a\"),(\"c\",\"a\"),(\"b\",\"c\"),(\"a\",\"c\"),(\"a\",\"b\"),(\"c\",\"b\"),(\"a\",\"c\"),(\"b\",\"c\"),(\"b\",\"a\"),(\"c\",\"a\"),(\"b\",\"c\"),(\"a\",\"c\"),(\"a\",\"b\"),(\"c\",\"b\"),(\"a\",\"c\"),(\"b\",\"c\"),(\"b\",\"a\"),(\"c\",\"a\"),(\"b\",\"c\"),(\"a\",\"c\"),(\"a\",\"b\"),(\"c\",\"b\"),(\"a\",\"c\"),(\"b\",\"c\"),(\"b\",\"a\"),(\"c\",\"a\"),(\"b\",\"c\"),(\"a\",\"c\"),(\"a\",\"b\"),(\"c\",\"b\"),(\"a\",\"c\"),(\"b\",\"c\"),(\"b\",\"a\"),(\"c\",\"a\"),(\"b\",\"c\"),(\"a\",\"c\"),(\"a\",\"b\"),(\"c\",\"b\"),(\"a\",\"c\"),(\"b\",\"c\"),(\"b\",\"a\"),(\"c\",\"a\"),(\"b\",\"c\"),(\"a\",\"b\"),(\"a\",\"c\"),(\"b\",\"c\")]"
      ]
     },
     "metadata": {},
     "output_type": "display_data"
    }
   ],
   "source": [
    "hanoi 32 \"a\" \"b\" \"c\""
   ]
  },
  {
   "cell_type": "code",
   "execution_count": null,
   "metadata": {
    "collapsed": true
   },
   "outputs": [],
   "source": []
  }
 ],
 "metadata": {
  "anaconda-cloud": {},
  "kernelspec": {
   "display_name": "Haskell",
   "language": "haskell",
   "name": "haskell"
  },
  "language_info": {
   "codemirror_mode": "ihaskell",
   "file_extension": ".hs",
   "name": "haskell",
   "version": "8.0.2"
  }
 },
 "nbformat": 4,
 "nbformat_minor": 1
}
